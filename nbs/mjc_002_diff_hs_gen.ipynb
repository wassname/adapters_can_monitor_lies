{
 "cells": [
  {
   "cell_type": "markdown",
   "id": "1b44551e",
   "metadata": {},
   "source": [
    "# Exploratory Data Analysis\n",
    "\n",
    "Hypothesis: We can use the https://arxiv.org/pdf/2406.04313 method for increasing honesty"
   ]
  },
  {
   "cell_type": "code",
   "execution_count": 1,
   "id": "198de680",
   "metadata": {
    "ExecuteTime": {
     "end_time": "2022-06-28T02:34:01.879987Z",
     "start_time": "2022-06-28T02:34:01.864103Z"
    }
   },
   "outputs": [],
   "source": [
    "# autoreload your package\n",
    "%load_ext autoreload\n",
    "%autoreload 2\n",
    "import adapter_overseer\n"
   ]
  },
  {
   "cell_type": "code",
   "execution_count": 2,
   "id": "f6d34518",
   "metadata": {},
   "outputs": [],
   "source": [
    "import os\n",
    "os.environ['CUDA_VISIBLE_DEVICES'] = \"0\""
   ]
  },
  {
   "cell_type": "code",
   "execution_count": 3,
   "id": "a372ed7c",
   "metadata": {
    "ExecuteTime": {
     "end_time": "2022-06-28T02:34:02.470436Z",
     "start_time": "2022-06-28T02:34:02.424826Z"
    }
   },
   "outputs": [],
   "source": [
    "import warnings\n",
    "# warnings.simplefilter(\"ignore\")\n",
    "# warnings.filterwarnings(\"ignore\", \".*does not have many workers.*\")\n",
    "# warnings.filterwarnings(\"ignore\", \".*divide by zero.*\")\n",
    "\n",
    "## numeric, plotting\n",
    "import numpy as np\n",
    "import pandas as pd\n",
    "import matplotlib.pyplot as plt\n",
    "%matplotlib inline\n",
    "plt.style.use('ggplot')\n",
    "plt.rcParams['figure.figsize'] = (7.0, 4)\n",
    "\n",
    "## utils\n",
    "from pathlib import Path\n",
    "from tqdm.auto import tqdm\n",
    "import logging, os, re\n",
    "import collections, functools, itertools\n",
    "from loguru import logger\n",
    "\n",
    "from typing import List, Callable, Tuple, Dict, Optional\n",
    "from jaxtyping import Float, Int\n",
    "from torch import Tensor\n",
    "\n",
    "# torch\n",
    "# import pytorch_lightning as pl\n",
    "from einops import rearrange, repeat, reduce\n",
    "import torch\n",
    "import torch.nn as nn\n",
    "\n",
    "\n",
    "from baukit.nethook import get_module\n",
    "from baukit import TraceDict\n",
    "\n",
    "from transformers import AutoModelForCausalLM, AutoTokenizer, BitsAndBytesConfig"
   ]
  },
  {
   "cell_type": "code",
   "execution_count": 4,
   "id": "64611cf0",
   "metadata": {},
   "outputs": [
    {
     "data": {
      "text/plain": [
       "ExtractConfig(datasets=('amazon_polarity',), datasets_ood='imdb', model='failspy/Llama-3-8B-Instruct-abliterated', collection_layers=('base_model.model.model.layers.10', 'base_model.model.model.layers.20'), batch_size=2, prompt_format=None, num_shots=1, max_length=300, max_examples=1000, seed=42, max_epochs=1)"
      ]
     },
     "execution_count": 4,
     "metadata": {},
     "output_type": "execute_result"
    }
   ],
   "source": [
    "from adapter_overseer.config import ExtractConfig\n",
    "\n",
    "cfg = ExtractConfig(max_length=300, num_shots=1)\n",
    "cfg"
   ]
  },
  {
   "cell_type": "markdown",
   "id": "efd50635",
   "metadata": {},
   "source": [
    "## Load"
   ]
  },
  {
   "cell_type": "code",
   "execution_count": 5,
   "id": "aaf63b54",
   "metadata": {},
   "outputs": [],
   "source": [
    "\n",
    "device = torch.device(\"cuda:0\" if torch.cuda.is_available() else \"cpu\")"
   ]
  },
  {
   "cell_type": "code",
   "execution_count": 6,
   "id": "db1ee3ff",
   "metadata": {},
   "outputs": [
    {
     "data": {
      "text/plain": [
       "(torch.bfloat16, device(type='cuda', index=0))"
      ]
     },
     "execution_count": 6,
     "metadata": {},
     "output_type": "execute_result"
    }
   ],
   "source": [
    "# https://huggingface.co/blog/mlabonne/orpo-llama-3\n",
    "if torch.cuda.get_device_capability()[0] >= 8:\n",
    "    !pip install -qqq flash-attn\n",
    "    attn_implementation = \"flash_attention_2\"\n",
    "    torch_dtype = torch.bfloat16\n",
    "else:\n",
    "    attn_implementation = \"eager\"\n",
    "    torch_dtype = torch.float16\n",
    "torch_dtype, device"
   ]
  },
  {
   "cell_type": "code",
   "execution_count": 7,
   "id": "64890012",
   "metadata": {
    "ExecuteTime": {
     "end_time": "2022-06-28T02:34:02.890216Z",
     "start_time": "2022-06-28T02:34:02.882249Z"
    }
   },
   "outputs": [
    {
     "data": {
      "application/vnd.jupyter.widget-view+json": {
       "model_id": "4b35254e88324230bc0005175b230439",
       "version_major": 2,
       "version_minor": 0
      },
      "text/plain": [
       "Loading checkpoint shards:   0%|          | 0/4 [00:00<?, ?it/s]"
      ]
     },
     "metadata": {},
     "output_type": "display_data"
    },
    {
     "data": {
      "text/plain": [
       "LlamaForCausalLM(\n",
       "  (model): LlamaModel(\n",
       "    (embed_tokens): Embedding(128256, 4096)\n",
       "    (layers): ModuleList(\n",
       "      (0-31): 32 x LlamaDecoderLayer(\n",
       "        (self_attn): LlamaSdpaAttention(\n",
       "          (q_proj): Linear4bit(in_features=4096, out_features=4096, bias=False)\n",
       "          (k_proj): Linear4bit(in_features=4096, out_features=1024, bias=False)\n",
       "          (v_proj): Linear4bit(in_features=4096, out_features=1024, bias=False)\n",
       "          (o_proj): Linear4bit(in_features=4096, out_features=4096, bias=False)\n",
       "          (rotary_emb): LlamaRotaryEmbedding()\n",
       "        )\n",
       "        (mlp): LlamaMLP(\n",
       "          (gate_proj): Linear4bit(in_features=4096, out_features=14336, bias=False)\n",
       "          (up_proj): Linear4bit(in_features=4096, out_features=14336, bias=False)\n",
       "          (down_proj): Linear4bit(in_features=14336, out_features=4096, bias=False)\n",
       "          (act_fn): SiLU()\n",
       "        )\n",
       "        (input_layernorm): LlamaRMSNorm()\n",
       "        (post_attention_layernorm): LlamaRMSNorm()\n",
       "      )\n",
       "    )\n",
       "    (norm): LlamaRMSNorm()\n",
       "  )\n",
       "  (lm_head): Linear(in_features=4096, out_features=128256, bias=False)\n",
       ")"
      ]
     },
     "execution_count": 7,
     "metadata": {},
     "output_type": "execute_result"
    }
   ],
   "source": [
    "# load model\n",
    "# quantization_config = BitsAndBytesConfig(load_in_8bit=True)\n",
    "quantization_config = BitsAndBytesConfig(load_in_4bit=True,     bnb_4bit_quant_type=\"nf4\", bnb_4bit_compute_dtype=torch_dtype, bnb_4bit_use_double_quant=True,)\n",
    "model = AutoModelForCausalLM.from_pretrained(cfg.model, device_map=\"auto\", quantization_config=quantization_config,)\n",
    "model"
   ]
  },
  {
   "cell_type": "code",
   "execution_count": 8,
   "id": "a9f98e8e",
   "metadata": {},
   "outputs": [
    {
     "name": "stderr",
     "output_type": "stream",
     "text": [
      "Special tokens have been added in the vocabulary, make sure the associated word embeddings are fine-tuned or trained.\n"
     ]
    }
   ],
   "source": [
    "tokenizer = AutoTokenizer.from_pretrained(cfg.model)\n",
    "if tokenizer.pad_token_id is None:\n",
    "    tokenizer.pad_token_id = tokenizer.eos_token_id\n",
    "tokenizer.padding_side = 'left'\n",
    "tokenizer.truncation_side = 'left'"
   ]
  },
  {
   "cell_type": "code",
   "execution_count": 9,
   "id": "797d42af",
   "metadata": {},
   "outputs": [
    {
     "data": {
      "text/plain": [
       "'<|eot_id|>'"
      ]
     },
     "execution_count": 9,
     "metadata": {},
     "output_type": "execute_result"
    }
   ],
   "source": [
    "# https://old.reddit.com/r/LocalLLaMA/comments/1coizjy/tokenizer_config_of_llama3_changed_by_meta_in_hf/\n",
    "tokenizer.eos_token # it's good"
   ]
  },
  {
   "cell_type": "code",
   "execution_count": 10,
   "id": "cb24b3a4",
   "metadata": {},
   "outputs": [],
   "source": [
    "# from peft import get_peft_config, get_peft_model, LoraConfig, TaskType\n",
    "# \\peft_config = LoraConfig(\n",
    "#     task_type=TaskType.SEQ_2_SEQ_LM, inference_mode=False, r=8, lora_alpha=32, lora_dropout=0.1\n",
    "# )\n",
    "# model = get_peft_model(model, peft_config)\n"
   ]
  },
  {
   "cell_type": "code",
   "execution_count": 11,
   "id": "b43d5484",
   "metadata": {},
   "outputs": [],
   "source": [
    "# from peft import prepare_model_for_int8_training\n",
    "# # we need to apply some post-processing on the 8-bit model to enable training, let's freeze all our layers, and cast the layer-norm in float32 for stability. We also cast the output of the last layer in float32 for the same reasons.\n",
    "# model = prepare_model_for_int8_training(model, output_embedding_layer_name=\"proj_out\")"
   ]
  },
  {
   "cell_type": "code",
   "execution_count": 12,
   "id": "1d4da6fa",
   "metadata": {},
   "outputs": [
    {
     "name": "stdout",
     "output_type": "stream",
     "text": [
      "trainable params: 524,288 || all params: 8,030,785,536 || trainable%: 0.0065\n",
      "trainable params: 0 || all params: 8,030,785,536 || trainable%: 0.0000\n"
     ]
    }
   ],
   "source": [
    "from peft import LoraConfig, PeftModel, LoraModel, LoraConfig, get_peft_model, IA3Config\n",
    "# https://github.com/huggingface/peft/blob/main/src/peft/utils/constants.py\n",
    "config = LoraConfig(\n",
    "                        #r=32,\n",
    "                         lora_alpha=10,  # from paper\n",
    "                    # target_modules=[\"q_proj\", \"v_proj\"], lora_dropout=0.05, bias=\"none\"\n",
    "                    )\n",
    "config = IA3Config(\n",
    ")\n",
    "\n",
    "from peft import prepare_model_for_kbit_training\n",
    "\n",
    "model = prepare_model_for_kbit_training(model)\n",
    "\n",
    "model = get_peft_model(model, config)\n",
    "model.print_trainable_parameters()\n",
    "\n",
    "# check adapter disabling works\n",
    "with model.disable_adapter():\n",
    "    model.print_trainable_parameters()"
   ]
  },
  {
   "cell_type": "markdown",
   "id": "6d102e3d",
   "metadata": {},
   "source": [
    "## Get data"
   ]
  },
  {
   "cell_type": "code",
   "execution_count": 13,
   "id": "f0dd0950",
   "metadata": {},
   "outputs": [],
   "source": [
    "# perhaps use load_preproc_datasets from sdb_probes_are_lie_detectors repo... /media/wassname/SGIronWolf/projects5/elk/sgd_probes_are_lie_detectors/src/prompts/prompt_loading.py"
   ]
  },
  {
   "cell_type": "code",
   "execution_count": 14,
   "id": "2c8ae82b",
   "metadata": {},
   "outputs": [
    {
     "data": {
      "application/vnd.jupyter.widget-view+json": {
       "model_id": "8691967e1deb4160b9bc4bc129b30d53",
       "version_major": 2,
       "version_minor": 0
      },
      "text/plain": [
       "tokenize:   0%|          | 0/3004 [00:00<?, ? examples/s]"
      ]
     },
     "metadata": {},
     "output_type": "display_data"
    },
    {
     "data": {
      "application/vnd.jupyter.widget-view+json": {
       "model_id": "73fc963a90964ac8811bb4216f441810",
       "version_major": 2,
       "version_minor": 0
      },
      "text/plain": [
       "truncated:   0%|          | 0/3004 [00:00<?, ? examples/s]"
      ]
     },
     "metadata": {},
     "output_type": "display_data"
    },
    {
     "data": {
      "application/vnd.jupyter.widget-view+json": {
       "model_id": "0a87393f895046a8943152f0ccb38bf6",
       "version_major": 2,
       "version_minor": 0
      },
      "text/plain": [
       "truncated:   0%|          | 0/3004 [00:00<?, ? examples/s]"
      ]
     },
     "metadata": {},
     "output_type": "display_data"
    },
    {
     "data": {
      "application/vnd.jupyter.widget-view+json": {
       "model_id": "d19b2b9a69814a4f9c8eda10b036ccfe",
       "version_major": 2,
       "version_minor": 0
      },
      "text/plain": [
       "prompt_truncated:   0%|          | 0/3004 [00:00<?, ? examples/s]"
      ]
     },
     "metadata": {},
     "output_type": "display_data"
    },
    {
     "data": {
      "application/vnd.jupyter.widget-view+json": {
       "model_id": "c0194fde935e4b749cda1c7b43d2896f",
       "version_major": 2,
       "version_minor": 0
      },
      "text/plain": [
       "choice_ids:   0%|          | 0/3004 [00:00<?, ? examples/s]"
      ]
     },
     "metadata": {},
     "output_type": "display_data"
    },
    {
     "name": "stderr",
     "output_type": "stream",
     "text": [
      "\u001b[32m2024-06-11 06:46:02.521\u001b[0m | \u001b[1mINFO    \u001b[0m | \u001b[36madapter_overseer.prompts.prompt_loading\u001b[0m:\u001b[36mload_preproc_dataset\u001b[0m:\u001b[36m392\u001b[0m - \u001b[1mmedian token length: 247.5 for amazon_polarity. max_length=300\u001b[0m\n",
      "\u001b[32m2024-06-11 06:46:02.523\u001b[0m | \u001b[1mINFO    \u001b[0m | \u001b[36madapter_overseer.prompts.prompt_loading\u001b[0m:\u001b[36mload_preproc_dataset\u001b[0m:\u001b[36m396\u001b[0m - \u001b[1mtruncation rate: 27.53% on amazon_polarity\u001b[0m\n"
     ]
    },
    {
     "data": {
      "application/vnd.jupyter.widget-view+json": {
       "model_id": "54b68be57f0548a9985b4dbd1e44bf1e",
       "version_major": 2,
       "version_minor": 0
      },
      "text/plain": [
       "Filter:   0%|          | 0/3004 [00:00<?, ? examples/s]"
      ]
     },
     "metadata": {},
     "output_type": "display_data"
    },
    {
     "name": "stderr",
     "output_type": "stream",
     "text": [
      "/media/wassname/SGIronWolf/projects5/elk/adapters_can_monitor_lies/.venv/lib/python3.10/site-packages/sklearn/model_selection/_split.py:2328: UserWarning: The groups parameter is ignored by StratifiedShuffleSplit\n",
      "  warnings.warn(\n"
     ]
    },
    {
     "data": {
      "application/vnd.jupyter.widget-view+json": {
       "model_id": "cf467551334c4c19b5c22edea0d850da",
       "version_major": 2,
       "version_minor": 0
      },
      "text/plain": [
       "Filter:   0%|          | 0/2177 [00:00<?, ? examples/s]"
      ]
     },
     "metadata": {},
     "output_type": "display_data"
    },
    {
     "name": "stderr",
     "output_type": "stream",
     "text": [
      "\u001b[32m2024-06-11 06:46:03.588\u001b[0m | \u001b[1mINFO    \u001b[0m | \u001b[36madapter_overseer.prompts.prompt_loading\u001b[0m:\u001b[36mload_preproc_dataset\u001b[0m:\u001b[36m405\u001b[0m - \u001b[1mnum_rows (after filtering out truncated rows) 3004=>2177\u001b[0m\n"
     ]
    },
    {
     "data": {
      "text/plain": [
       "Dataset({\n",
       "    features: ['ds_string', 'example_i', 'answer', 'messages', 'answer_choices', 'template_name', 'label_true', 'label_instructed', 'instructed_to_lie', 'sys_instr_name', 'question', 'input_ids', 'attention_mask', 'truncated', 'length', 'prompt_truncated', 'choice_ids'],\n",
       "    num_rows: 1001\n",
       "})"
      ]
     },
     "execution_count": 14,
     "metadata": {},
     "output_type": "execute_result"
    }
   ],
   "source": [
    "# load a dataset of paired prompts, to try and get the model to lie\n",
    "from adapter_overseer.prompts.prompt_loading import load_preproc_datasets\n",
    "\n",
    "N = cfg.max_examples\n",
    "ds_tokens = load_preproc_datasets(\n",
    "    cfg.datasets,\n",
    "    tokenizer,\n",
    "    N=N,\n",
    "    seed=cfg.seed,\n",
    "    num_shots=cfg.num_shots,\n",
    "    max_length=cfg.max_length,\n",
    "    prompt_format=cfg.prompt_format,\n",
    ")\n",
    "ds_tokens\n"
   ]
  },
  {
   "cell_type": "markdown",
   "id": "6e535a6d",
   "metadata": {},
   "source": []
  },
  {
   "cell_type": "markdown",
   "id": "eca812ab",
   "metadata": {},
   "source": [
    "## Train: transformers\n",
    "\n",
    "https://github.com/huggingface/peft/blob/main/examples/int8_training/Finetune_opt_bnb_peft.ipynb"
   ]
  },
  {
   "cell_type": "code",
   "execution_count": 15,
   "id": "ea1b81a3",
   "metadata": {},
   "outputs": [
    {
     "name": "stdout",
     "output_type": "stream",
     "text": [
      "1/150 0.00 1.00\n",
      "11/150 0.04 0.96\n",
      "21/150 0.07 0.93\n",
      "31/150 0.10 0.90\n",
      "41/150 0.14 0.86\n",
      "51/150 0.17 0.83\n",
      "61/150 0.20 0.80\n",
      "71/150 0.24 0.76\n",
      "81/150 0.27 0.73\n",
      "91/150 0.30 0.70\n",
      "101/150 0.34 0.66\n",
      "111/150 0.37 0.63\n",
      "121/150 0.40 0.60\n",
      "131/150 0.44 0.56\n",
      "141/150 0.47 0.53\n"
     ]
    }
   ],
   "source": [
    "def coeffecient(t, T, alpha=1):\n",
    "    return alpha * t / (2 * T), alpha * (1- t/(2*T))\n",
    "\n",
    "T = 150\n",
    "for t in range(1, T, 10):\n",
    "    cs = coeffecient(t, T)\n",
    "    print(f\"{t}/{T} {cs[0]:2.2f} {cs[1]:2.2f}\")"
   ]
  },
  {
   "cell_type": "code",
   "execution_count": null,
   "id": "f757c9e6",
   "metadata": {},
   "outputs": [],
   "source": [
    "\n",
    "# TODO make sure that multiple cols get passed into trainer\n",
    "ds = ds_tokens.select_columns(['label_true', 'label_instructed' ,'instructed_to_lie', 'input_ids', 'attention_mask', 'choice_ids'])"
   ]
  },
  {
   "cell_type": "code",
   "execution_count": null,
   "id": "1af5ec61",
   "metadata": {},
   "outputs": [],
   "source": [
    "# TODO change the loss function!\n",
    "# we need to modify the forward pass, so that it returns a different loss function\n",
    "# but to calculate this we will need to residuals now, and as they werre\n",
    "# loss_bad = mse(repr_current, repr_target)\n",
    "\n",
    "# from transformers import SFTTrainer\n",
    "from trl.trainer import SFTTrainer, SFTConfig\n",
    "import torch.nn.functional as F\n",
    "import transformers\n",
    "from adapter_overseer.helpers.torch_helpers import clear_mem, switch\n",
    "from adapter_overseer.helpers.scores import select_choices"
   ]
  },
  {
   "cell_type": "code",
   "execution_count": null,
   "id": "87a10fb3",
   "metadata": {},
   "outputs": [],
   "source": [
    "def collect_hs(hidden_states, collection_layers):\n",
    "    \"\"\"The residual stream is the diff of the hs.\"\"\"\n",
    "    # 8, l=33, b=2, input=500, h=4096\n",
    "    # Tuple (one element for each generated token) of tuples (one element for each layer of the decoder) of torch.FloatTensor of shape (batch_size, generated_length, hidden_size).        \n",
    "    # from forward\n",
    "    residuals = rearrange(list(hidden_states), 'l b t h -> l b t h').diff(0)[collection_layers]\n",
    "    return residuals\n",
    "\n",
    "def generate_fwd(model, toks: Int[Tensor, \"batch_size seq_len\"], max_tokens_generated: int = 6,):\n",
    "\n",
    "    all_toks = torch.zeros(\n",
    "        (toks.shape[0], toks.shape[1] + max_tokens_generated),\n",
    "        dtype=torch.long,\n",
    "        device=toks.device,\n",
    "    )\n",
    "    all_toks[:, : toks.shape[1]] = toks\n",
    "\n",
    "    for i in range(max_tokens_generated):\n",
    "        out = model(all_toks[:, : -max_tokens_generated + i], return_dict=True)\n",
    "        if i==0:\n",
    "            first_end_logits = out[\"logits\"][:, -1]\n",
    "        next_tokens = out.logits[:, -1, :].argmax(dim=-1)\n",
    "        all_toks[:, -max_tokens_generated + i] = next_tokens\n",
    "    \n",
    "    # get last\n",
    "    last_residuals = collect_hs(out.hidden_states, cfg.collection_layers)\n",
    "    return first_end_logits, last_residuals\n"
   ]
  },
  {
   "cell_type": "code",
   "execution_count": 18,
   "id": "442bb987",
   "metadata": {},
   "outputs": [
    {
     "name": "stderr",
     "output_type": "stream",
     "text": [
      "Special tokens have been added in the vocabulary, make sure the associated word embeddings are fine-tuned or trained.\n",
      "max_steps is given, it will override any value given in num_train_epochs\n"
     ]
    },
    {
     "data": {
      "application/vnd.jupyter.widget-view+json": {
       "model_id": "09e33004d2354aaca4437f785cad6e9f",
       "version_major": 2,
       "version_minor": 0
      },
      "text/plain": [
       "  0%|          | 0/150 [00:00<?, ?it/s]"
      ]
     },
     "metadata": {},
     "output_type": "display_data"
    },
    {
     "name": "stderr",
     "output_type": "stream",
     "text": [
      "/media/wassname/SGIronWolf/projects5/elk/adapters_can_monitor_lies/.venv/lib/python3.10/site-packages/transformers/generation/configuration_utils.py:515: UserWarning: `do_sample` is set to `False`. However, `temperature` is set to `0.6` -- this flag is only used in sample-based generation modes. You should set `do_sample=True` or unset `temperature`.\n",
      "  warnings.warn(\n",
      "/media/wassname/SGIronWolf/projects5/elk/adapters_can_monitor_lies/.venv/lib/python3.10/site-packages/transformers/generation/configuration_utils.py:520: UserWarning: `do_sample` is set to `False`. However, `top_p` is set to `0.9` -- this flag is only used in sample-based generation modes. You should set `do_sample=True` or unset `top_p`.\n",
      "  warnings.warn(\n",
      "Setting `pad_token_id` to `eos_token_id`:128001 for open-end generation.\n",
      "/media/wassname/SGIronWolf/projects5/elk/adapters_can_monitor_lies/.venv/lib/python3.10/site-packages/torch/utils/checkpoint.py:464: UserWarning: torch.utils.checkpoint: the use_reentrant parameter should be passed explicitly. In version 2.4 we will raise an exception if use_reentrant is not passed. use_reentrant=False is recommended, but if you need to preserve the current default behavior, you can pass use_reentrant=True. Refer to docs for more details on the differences between the two variants.\n",
      "  warnings.warn(\n",
      "/media/wassname/SGIronWolf/projects5/elk/adapters_can_monitor_lies/.venv/lib/python3.10/site-packages/torch/utils/checkpoint.py:91: UserWarning: None of the inputs have requires_grad=True. Gradients will be None\n",
      "  warnings.warn(\n",
      "Setting `pad_token_id` to `eos_token_id`:128001 for open-end generation.\n",
      "Setting `pad_token_id` to `eos_token_id`:128001 for open-end generation.\n",
      "Setting `pad_token_id` to `eos_token_id`:128001 for open-end generation.\n",
      "Setting `pad_token_id` to `eos_token_id`:128001 for open-end generation.\n",
      "Setting `pad_token_id` to `eos_token_id`:128001 for open-end generation.\n",
      "Setting `pad_token_id` to `eos_token_id`:128001 for open-end generation.\n",
      "Setting `pad_token_id` to `eos_token_id`:128001 for open-end generation.\n",
      "Setting `pad_token_id` to `eos_token_id`:128001 for open-end generation.\n",
      "Setting `pad_token_id` to `eos_token_id`:128001 for open-end generation.\n",
      "Setting `pad_token_id` to `eos_token_id`:128001 for open-end generation.\n",
      "Setting `pad_token_id` to `eos_token_id`:128001 for open-end generation.\n",
      "Setting `pad_token_id` to `eos_token_id`:128001 for open-end generation.\n",
      "Setting `pad_token_id` to `eos_token_id`:128001 for open-end generation.\n",
      "Setting `pad_token_id` to `eos_token_id`:128001 for open-end generation.\n",
      "Setting `pad_token_id` to `eos_token_id`:128001 for open-end generation.\n"
     ]
    },
    {
     "ename": "AssertionError",
     "evalue": "No inf checks were recorded for this optimizer.",
     "output_type": "error",
     "traceback": [
      "\u001b[0;31m---------------------------------------------------------------------------\u001b[0m",
      "\u001b[0;31mAssertionError\u001b[0m                            Traceback (most recent call last)",
      "Cell \u001b[0;32mIn[18], line 136\u001b[0m\n\u001b[1;32m    114\u001b[0m trainer \u001b[38;5;241m=\u001b[39m CustomSFTTrainer(\n\u001b[1;32m    115\u001b[0m     model\u001b[38;5;241m=\u001b[39mmodel,\n\u001b[1;32m    116\u001b[0m     train_dataset\u001b[38;5;241m=\u001b[39mds,\n\u001b[0;32m   (...)\u001b[0m\n\u001b[1;32m    132\u001b[0m     \u001b[38;5;66;03m# data_collator=transformers.DataCollatorForLanguageModeling(tokenizer, mlm=False),\u001b[39;00m\n\u001b[1;32m    133\u001b[0m ) \n\u001b[1;32m    134\u001b[0m model\u001b[38;5;241m.\u001b[39mconfig\u001b[38;5;241m.\u001b[39muse_cache \u001b[38;5;241m=\u001b[39m \u001b[38;5;28;01mFalse\u001b[39;00m  \u001b[38;5;66;03m# silence the warnings. Please re-enable for inference!\u001b[39;00m\n\u001b[0;32m--> 136\u001b[0m \u001b[43mtrainer\u001b[49m\u001b[38;5;241;43m.\u001b[39;49m\u001b[43mtrain\u001b[49m\u001b[43m(\u001b[49m\u001b[43m)\u001b[49m\n",
      "File \u001b[0;32m/media/wassname/SGIronWolf/projects5/elk/adapters_can_monitor_lies/.venv/lib/python3.10/site-packages/trl/trainer/sft_trainer.py:440\u001b[0m, in \u001b[0;36mSFTTrainer.train\u001b[0;34m(self, *args, **kwargs)\u001b[0m\n\u001b[1;32m    437\u001b[0m \u001b[38;5;28;01mif\u001b[39;00m \u001b[38;5;28mself\u001b[39m\u001b[38;5;241m.\u001b[39mneftune_noise_alpha \u001b[38;5;129;01mis\u001b[39;00m \u001b[38;5;129;01mnot\u001b[39;00m \u001b[38;5;28;01mNone\u001b[39;00m \u001b[38;5;129;01mand\u001b[39;00m \u001b[38;5;129;01mnot\u001b[39;00m \u001b[38;5;28mself\u001b[39m\u001b[38;5;241m.\u001b[39m_trainer_supports_neftune:\n\u001b[1;32m    438\u001b[0m     \u001b[38;5;28mself\u001b[39m\u001b[38;5;241m.\u001b[39mmodel \u001b[38;5;241m=\u001b[39m \u001b[38;5;28mself\u001b[39m\u001b[38;5;241m.\u001b[39m_trl_activate_neftune(\u001b[38;5;28mself\u001b[39m\u001b[38;5;241m.\u001b[39mmodel)\n\u001b[0;32m--> 440\u001b[0m output \u001b[38;5;241m=\u001b[39m \u001b[38;5;28;43msuper\u001b[39;49m\u001b[43m(\u001b[49m\u001b[43m)\u001b[49m\u001b[38;5;241;43m.\u001b[39;49m\u001b[43mtrain\u001b[49m\u001b[43m(\u001b[49m\u001b[38;5;241;43m*\u001b[39;49m\u001b[43margs\u001b[49m\u001b[43m,\u001b[49m\u001b[43m \u001b[49m\u001b[38;5;241;43m*\u001b[39;49m\u001b[38;5;241;43m*\u001b[39;49m\u001b[43mkwargs\u001b[49m\u001b[43m)\u001b[49m\n\u001b[1;32m    442\u001b[0m \u001b[38;5;66;03m# After training we make sure to retrieve back the original forward pass method\u001b[39;00m\n\u001b[1;32m    443\u001b[0m \u001b[38;5;66;03m# for the embedding layer by removing the forward post hook.\u001b[39;00m\n\u001b[1;32m    444\u001b[0m \u001b[38;5;28;01mif\u001b[39;00m \u001b[38;5;28mself\u001b[39m\u001b[38;5;241m.\u001b[39mneftune_noise_alpha \u001b[38;5;129;01mis\u001b[39;00m \u001b[38;5;129;01mnot\u001b[39;00m \u001b[38;5;28;01mNone\u001b[39;00m \u001b[38;5;129;01mand\u001b[39;00m \u001b[38;5;129;01mnot\u001b[39;00m \u001b[38;5;28mself\u001b[39m\u001b[38;5;241m.\u001b[39m_trainer_supports_neftune:\n",
      "File \u001b[0;32m/media/wassname/SGIronWolf/projects5/elk/adapters_can_monitor_lies/.venv/lib/python3.10/site-packages/transformers/trainer.py:1885\u001b[0m, in \u001b[0;36mTrainer.train\u001b[0;34m(self, resume_from_checkpoint, trial, ignore_keys_for_eval, **kwargs)\u001b[0m\n\u001b[1;32m   1883\u001b[0m         hf_hub_utils\u001b[38;5;241m.\u001b[39menable_progress_bars()\n\u001b[1;32m   1884\u001b[0m \u001b[38;5;28;01melse\u001b[39;00m:\n\u001b[0;32m-> 1885\u001b[0m     \u001b[38;5;28;01mreturn\u001b[39;00m \u001b[43minner_training_loop\u001b[49m\u001b[43m(\u001b[49m\n\u001b[1;32m   1886\u001b[0m \u001b[43m        \u001b[49m\u001b[43margs\u001b[49m\u001b[38;5;241;43m=\u001b[39;49m\u001b[43margs\u001b[49m\u001b[43m,\u001b[49m\n\u001b[1;32m   1887\u001b[0m \u001b[43m        \u001b[49m\u001b[43mresume_from_checkpoint\u001b[49m\u001b[38;5;241;43m=\u001b[39;49m\u001b[43mresume_from_checkpoint\u001b[49m\u001b[43m,\u001b[49m\n\u001b[1;32m   1888\u001b[0m \u001b[43m        \u001b[49m\u001b[43mtrial\u001b[49m\u001b[38;5;241;43m=\u001b[39;49m\u001b[43mtrial\u001b[49m\u001b[43m,\u001b[49m\n\u001b[1;32m   1889\u001b[0m \u001b[43m        \u001b[49m\u001b[43mignore_keys_for_eval\u001b[49m\u001b[38;5;241;43m=\u001b[39;49m\u001b[43mignore_keys_for_eval\u001b[49m\u001b[43m,\u001b[49m\n\u001b[1;32m   1890\u001b[0m \u001b[43m    \u001b[49m\u001b[43m)\u001b[49m\n",
      "File \u001b[0;32m/media/wassname/SGIronWolf/projects5/elk/adapters_can_monitor_lies/.venv/lib/python3.10/site-packages/transformers/trainer.py:2279\u001b[0m, in \u001b[0;36mTrainer._inner_training_loop\u001b[0;34m(self, batch_size, args, resume_from_checkpoint, trial, ignore_keys_for_eval)\u001b[0m\n\u001b[1;32m   2276\u001b[0m         grad_norm \u001b[38;5;241m=\u001b[39m _grad_norm\n\u001b[1;32m   2278\u001b[0m \u001b[38;5;66;03m# Optimizer step\u001b[39;00m\n\u001b[0;32m-> 2279\u001b[0m \u001b[38;5;28;43mself\u001b[39;49m\u001b[38;5;241;43m.\u001b[39;49m\u001b[43moptimizer\u001b[49m\u001b[38;5;241;43m.\u001b[39;49m\u001b[43mstep\u001b[49m\u001b[43m(\u001b[49m\u001b[43m)\u001b[49m\n\u001b[1;32m   2280\u001b[0m optimizer_was_run \u001b[38;5;241m=\u001b[39m \u001b[38;5;129;01mnot\u001b[39;00m \u001b[38;5;28mself\u001b[39m\u001b[38;5;241m.\u001b[39maccelerator\u001b[38;5;241m.\u001b[39moptimizer_step_was_skipped\n\u001b[1;32m   2281\u001b[0m \u001b[38;5;28;01mif\u001b[39;00m optimizer_was_run:\n\u001b[1;32m   2282\u001b[0m     \u001b[38;5;66;03m# Delay optimizer scheduling until metrics are generated\u001b[39;00m\n",
      "File \u001b[0;32m/media/wassname/SGIronWolf/projects5/elk/adapters_can_monitor_lies/.venv/lib/python3.10/site-packages/accelerate/optimizer.py:157\u001b[0m, in \u001b[0;36mAcceleratedOptimizer.step\u001b[0;34m(self, closure)\u001b[0m\n\u001b[1;32m    154\u001b[0m \u001b[38;5;28;01mif\u001b[39;00m \u001b[38;5;28mself\u001b[39m\u001b[38;5;241m.\u001b[39mscaler \u001b[38;5;129;01mis\u001b[39;00m \u001b[38;5;129;01mnot\u001b[39;00m \u001b[38;5;28;01mNone\u001b[39;00m:\n\u001b[1;32m    155\u001b[0m     \u001b[38;5;28mself\u001b[39m\u001b[38;5;241m.\u001b[39moptimizer\u001b[38;5;241m.\u001b[39mstep \u001b[38;5;241m=\u001b[39m \u001b[38;5;28mself\u001b[39m\u001b[38;5;241m.\u001b[39m_optimizer_patched_step_method\n\u001b[0;32m--> 157\u001b[0m     \u001b[38;5;28;43mself\u001b[39;49m\u001b[38;5;241;43m.\u001b[39;49m\u001b[43mscaler\u001b[49m\u001b[38;5;241;43m.\u001b[39;49m\u001b[43mstep\u001b[49m\u001b[43m(\u001b[49m\u001b[38;5;28;43mself\u001b[39;49m\u001b[38;5;241;43m.\u001b[39;49m\u001b[43moptimizer\u001b[49m\u001b[43m,\u001b[49m\u001b[43m \u001b[49m\u001b[43mclosure\u001b[49m\u001b[43m)\u001b[49m\n\u001b[1;32m    158\u001b[0m     \u001b[38;5;28mself\u001b[39m\u001b[38;5;241m.\u001b[39mscaler\u001b[38;5;241m.\u001b[39mupdate()\n\u001b[1;32m    160\u001b[0m     \u001b[38;5;28;01mif\u001b[39;00m \u001b[38;5;129;01mnot\u001b[39;00m \u001b[38;5;28mself\u001b[39m\u001b[38;5;241m.\u001b[39m_accelerate_step_called:\n\u001b[1;32m    161\u001b[0m         \u001b[38;5;66;03m# If the optimizer step was skipped, gradient overflow was detected.\u001b[39;00m\n",
      "File \u001b[0;32m/media/wassname/SGIronWolf/projects5/elk/adapters_can_monitor_lies/.venv/lib/python3.10/site-packages/torch/amp/grad_scaler.py:450\u001b[0m, in \u001b[0;36mGradScaler.step\u001b[0;34m(self, optimizer, *args, **kwargs)\u001b[0m\n\u001b[1;32m    446\u001b[0m \u001b[38;5;28;01mif\u001b[39;00m optimizer_state[\u001b[38;5;124m\"\u001b[39m\u001b[38;5;124mstage\u001b[39m\u001b[38;5;124m\"\u001b[39m] \u001b[38;5;129;01mis\u001b[39;00m OptState\u001b[38;5;241m.\u001b[39mREADY:\n\u001b[1;32m    447\u001b[0m     \u001b[38;5;28mself\u001b[39m\u001b[38;5;241m.\u001b[39munscale_(optimizer)\n\u001b[1;32m    449\u001b[0m \u001b[38;5;28;01massert\u001b[39;00m (\n\u001b[0;32m--> 450\u001b[0m     \u001b[38;5;28mlen\u001b[39m(optimizer_state[\u001b[38;5;124m\"\u001b[39m\u001b[38;5;124mfound_inf_per_device\u001b[39m\u001b[38;5;124m\"\u001b[39m]) \u001b[38;5;241m>\u001b[39m \u001b[38;5;241m0\u001b[39m\n\u001b[1;32m    451\u001b[0m ), \u001b[38;5;124m\"\u001b[39m\u001b[38;5;124mNo inf checks were recorded for this optimizer.\u001b[39m\u001b[38;5;124m\"\u001b[39m\n\u001b[1;32m    453\u001b[0m retval \u001b[38;5;241m=\u001b[39m \u001b[38;5;28mself\u001b[39m\u001b[38;5;241m.\u001b[39m_maybe_opt_step(optimizer, optimizer_state, \u001b[38;5;241m*\u001b[39margs, \u001b[38;5;241m*\u001b[39m\u001b[38;5;241m*\u001b[39mkwargs)\n\u001b[1;32m    455\u001b[0m optimizer_state[\u001b[38;5;124m\"\u001b[39m\u001b[38;5;124mstage\u001b[39m\u001b[38;5;124m\"\u001b[39m] \u001b[38;5;241m=\u001b[39m OptState\u001b[38;5;241m.\u001b[39mSTEPPED\n",
      "\u001b[0;31mAssertionError\u001b[0m: No inf checks were recorded for this optimizer."
     ]
    }
   ],
   "source": [
    "class CustomSFTTrainer(SFTTrainer):\n",
    "    \"\"\"\n",
    "    Custom SFTTrainer that orthoganalizes the repr of bad examples, and retains good repr of examples\n",
    "\n",
    "    See: https://arxiv.org/pdf/2406.04313\n",
    "\n",
    "    args:\n",
    "        collection_layers: list of baukit layer names to collect\n",
    "    \"\"\"\n",
    "    def __init__(self, *args, collection_layers: list, alpha=0.1, **kwargs):\n",
    "        super(CustomSFTTrainer, self).__init__(*args, **kwargs)\n",
    "        self.collection_layers = collection_layers\n",
    "        self.alpha = alpha\n",
    "        self.total_steps = self.args.max_steps\n",
    "\n",
    "    def compute_loss(self, model, inputs, return_outputs=False):       \n",
    "\n",
    "        batch = {'input_ids': inputs['input_ids'], 'attention_mask': inputs['attention_mask']}\n",
    "\n",
    "        # # collect the residuals of the model\n",
    "        # with torch.no_grad():\n",
    "        #     with model.disable_adapter():\n",
    "        #         orig_outputs = model(**batch, output_hidden_states=True)\n",
    "        # outputs = model(**batch, output_hidden_states=True)\n",
    "\n",
    "        # collect the residuals of the model\n",
    "        _, last_residuals = generate_fwd(model, inputs['input_ids'])\n",
    "        with torch.no_grad():\n",
    "            with model.disable_adapter():\n",
    "                first_end_logits_base, last_residuals_base = generate_fwd(model, inputs['input_ids'])\n",
    "\n",
    "        # new_tokens = 6\n",
    "        # gen_kargs = dict(output_hidden_states=True, return_dict_in_generate=True, use_cache=False, do_sample=False, min_new_tokens=new_tokens, max_new_tokens=new_tokens, output_logits=True)\n",
    "        # # FIXME... this has no grad\n",
    "        # # we need to chain forward. Taking probs from first token, hidden states from last/all\n",
    "        # with torch.no_grad():\n",
    "        #     with model.disable_adapter():\n",
    "        #         orig_outputs = model.generate(**batch, **gen_kargs)\n",
    "        # outputs = model.generate(**batch, **gen_kargs)\n",
    "\n",
    "\n",
    "        # def collect_hs(hidden_states):\n",
    "        #     \"\"\"The residual stream is the diff of the hs.\"\"\"\n",
    "        #     # 8, l=33, b=2, input=500, h=4096\n",
    "        #     # Tuple (one element for each generated token) of tuples (one element for each layer of the decoder) of torch.FloatTensor of shape (batch_size, generated_length, hidden_size).\n",
    "\n",
    "        #     # take last generation of model.generate\n",
    "        #     residuals = rearrange(list(hidden_states[-1]), 'l b t h -> l b t h').diff(0) # diff over layers\n",
    "        #     # collect chosen layers\n",
    "        #     return residuals[self.collection_layers]\n",
    "        \n",
    "        #     # from forward\n",
    "        #     residuals = rearrange(list(hidden_states), 't l b h -> l b t h').diff(0)[self.collection_layers]\n",
    "        #     return residuals\n",
    "\n",
    "        rep_adapt = last_residuals\n",
    "        rep_orig = last_residuals_base\n",
    "        # \"for enhanced robustness, we apply the short circuit loss to both the user and assistant text within the short circuit set for large language models and agents.\"\n",
    "\n",
    "        # so now we have a mixed batch of good and bad outputs\n",
    "        # get probs of each choice\n",
    "        # compare to labels to seperate into good and bad\n",
    "        choice_ids = inputs['choice_ids'].detach().cpu().long()\n",
    "        # label_instructed = inputs['label_true'] ^ inputs['instructed_to_lie']\n",
    "        label_true = inputs['label_true']\n",
    "\n",
    "        # does the underlying model get it right or wrong?\n",
    "        # (generations, batch, tokens), gen first generation, last token\n",
    "        end_logits = first_end_logits_base\n",
    "        probs = torch.softmax(end_logits, -1)\n",
    "        choice_probs = select_choices(probs, choice_ids).sum(2)\n",
    "        binary_ans = choice_probs[:, 1] / (choice_probs.sum(1) + 1e-12)\n",
    "        correct_truth_telling = switch(binary_ans, label_true)\n",
    "        # correct_instruction_following = switch(binary_ans, label_instructed)\n",
    "\n",
    "        mask_desired = correct_truth_telling>0.5\n",
    "\n",
    "\n",
    "        # get coeffecient\n",
    "        steps = self.state.global_step + 1\n",
    "        c_s, c_r = coeffecient(steps, self.total_steps)\n",
    "        c_s = torch.tensor(c_s).to(rep_orig.dtype)\n",
    "        c_r = torch.tensor(c_r).to(rep_orig.dtype)\n",
    "\n",
    "        loss_retain = F.mse_loss(rep_orig, rep_adapt, reduction='none' )[mask_desired]\n",
    "        if loss_retain.numel() == 0:\n",
    "            loss_retain = 0\n",
    "        else:\n",
    "            loss_retain = loss_retain.mean()\n",
    "        loss_rr = F.relu(F.cosine_similarity(rep_orig, rep_adapt, dim=1))[~mask_desired]\n",
    "        if loss_rr.numel() == 0:\n",
    "            loss_rr = 0\n",
    "        else:\n",
    "            loss_rr = loss_rr.mean()\n",
    "        loss = loss_rr * c_s + c_r * loss_retain\n",
    "        loss = loss\n",
    "        if steps % 20 == 0:\n",
    "            logger.debug(f\"steps: {steps}, c_r: {c_r}, loss_rr: {loss_rr:2.3f}, loss_retain: {loss_retain:2.3f}, loss={loss:2.3f}, mask_desired: {(mask_desired*1.0).mean():2.3f}\")\n",
    "        \n",
    "        return (loss, outputs) if return_outputs else loss\n",
    "    \n",
    "\n",
    "\n",
    "\n",
    "clear_mem()\n",
    "\n",
    "# see https://github.com/huggingface/trl/blob/main/trl/trainer/sft_trainer.py#L58\n",
    "trainer = CustomSFTTrainer(\n",
    "    model=model,\n",
    "    train_dataset=ds,\n",
    "    collection_layers=[10, 20],\n",
    "    # max_seq_length=cfg.max_length,\n",
    "    args=SFTConfig(\n",
    "        # see https://github.com/huggingface/trl/blob/main/trl/trainer/sft_config.py#L21\n",
    "        max_seq_length=cfg.max_length,\n",
    "        per_device_train_batch_size=2, # 18GB/24GB\n",
    "        gradient_accumulation_steps=8, # we want to accumulate the gradients to make the batch size larger, so we have sufficient examples of good and bad behaviour to learn from\n",
    "        warmup_steps=10,\n",
    "        max_steps=150, # 150 steps of batch=16 in paper\n",
    "        learning_rate=3e-4, # from paper\n",
    "        fp16=True,\n",
    "        logging_steps=1,\n",
    "        output_dir=\"outputs\",\n",
    "        remove_unused_columns=False,\n",
    "    ),\n",
    "    # data_collator=transformers.DataCollatorForLanguageModeling(tokenizer, mlm=False),\n",
    ") \n",
    "model.config.use_cache = False  # silence the warnings. Please re-enable for inference!\n",
    "\n",
    "clear_mem()\n",
    "trainer.train()"
   ]
  },
  {
   "cell_type": "code",
   "execution_count": null,
   "id": "090e556a",
   "metadata": {},
   "outputs": [],
   "source": [
    "# model = None\n",
    "# clear_mem()"
   ]
  },
  {
   "cell_type": "code",
   "execution_count": null,
   "id": "9c3b0cb4",
   "metadata": {},
   "outputs": [],
   "source": [
    "# save\n",
    "model.save_pretrained(\"../outputs/hs_adapter\")"
   ]
  },
  {
   "cell_type": "markdown",
   "id": "ec82d4d8",
   "metadata": {},
   "source": [
    "# Eval"
   ]
  },
  {
   "cell_type": "code",
   "execution_count": null,
   "id": "78d278b5",
   "metadata": {},
   "outputs": [],
   "source": [
    "from datasets import load_dataset\n",
    "# multiple_choice\n",
    "from torch.utils.data import DataLoader\n",
    "# dataset = load_dataset(\"truthfulqa/truthful_qa\", \"multiple_choice\")\n",
    "\n",
    "# HACK it was stalling for hours, so I loaded it locally\n",
    "dataset = load_dataset(\"../data/truthful_qa\")['validation']\n",
    "dataset"
   ]
  },
  {
   "cell_type": "code",
   "execution_count": null,
   "id": "60a4effb",
   "metadata": {},
   "outputs": [],
   "source": [
    "model.config.use_cache = True"
   ]
  },
  {
   "cell_type": "code",
   "execution_count": null,
   "id": "6c19b517",
   "metadata": {},
   "outputs": [],
   "source": [
    "# https://github.dev/likenneth/honest_llama/blob/b92beb28deccd7ec6b26de7ebf9920122cfd15cd/utils.py#L72\n",
    "# print(row)\n",
    "\n",
    "def format_prompt(row):\n",
    "    prompt = f\"The is a multiple choice question. Question: {row['question']}\\n\"\n",
    "    for i, choice in enumerate(row['mc2_targets']['choices']):\n",
    "        prompt += f\"{i+1}. {choice}\\n\"\n",
    "    prompt += f\"\\nThe correct answer is number \"\n",
    "\n",
    "    choices = [str(i) for i in range(len(row['mc2_targets']['labels']))]\n",
    "    return {'text': prompt, \n",
    "            'label': [np.argmax(row['mc2_targets']['labels'])],\n",
    "            'choices': choices,\n",
    "            'num_choices': len(choices),\n",
    "            }\n",
    "\n",
    "dataset1 = dataset.map(format_prompt)"
   ]
  },
  {
   "cell_type": "code",
   "execution_count": null,
   "id": "d5224624",
   "metadata": {},
   "outputs": [],
   "source": [
    "max([len(r['labels']) for r in dataset['mc2_targets']])"
   ]
  },
  {
   "cell_type": "code",
   "execution_count": null,
   "id": "a86edd8e",
   "metadata": {},
   "outputs": [],
   "source": [
    "# get our choice ids\n",
    "choices = [str(i) for i in range(13)]\n",
    "choice_ids = [tokenizer(c, add_special_tokens=False).input_ids[0] for c in choices]\n",
    "choice_ids"
   ]
  },
  {
   "cell_type": "code",
   "execution_count": null,
   "id": "b06168d1",
   "metadata": {},
   "outputs": [],
   "source": [
    "\n",
    "def tokenization(example):\n",
    "    o = tokenizer(example[\"text\"], padding=\"max_length\", truncation=True, max_length=cfg.max_length, return_tensors=\"pt\")\n",
    "    return o\n",
    "\n",
    "dataset2 = dataset1.map(tokenization, batched=True).select_columns([ 'label', 'input_ids', 'attention_mask', \n",
    "                                                                    'num_choices'\n",
    "                                                                    ]).with_format(\"torch\")\n",
    "dataset2"
   ]
  },
  {
   "cell_type": "markdown",
   "id": "e21ba4e5",
   "metadata": {},
   "source": [
    "# Generate"
   ]
  },
  {
   "cell_type": "code",
   "execution_count": null,
   "id": "4ebffedf",
   "metadata": {},
   "outputs": [],
   "source": [
    "i = 1\n",
    "row = dataset1[i]\n",
    "# row"
   ]
  },
  {
   "cell_type": "code",
   "execution_count": null,
   "id": "d3b60560",
   "metadata": {},
   "outputs": [],
   "source": []
  },
  {
   "cell_type": "code",
   "execution_count": null,
   "id": "efddadbe",
   "metadata": {},
   "outputs": [],
   "source": [
    "max_new_tokens = 32\n",
    "s = row['text']\n",
    "inputs = tokenizer(s, truncation=True, max_length=cfg.max_length, return_tensors=\"pt\").to(device)\n",
    "model.eval()\n",
    "with torch.no_grad():\n",
    "    outputs = model.generate(**inputs, max_new_tokens=max_new_tokens, min_new_tokens=max_new_tokens, do_sample=False)\n",
    "    out_s = tokenizer.batch_decode(outputs, skip_special_tokens=False)\n",
    "f\"`{out_s[0]}`\""
   ]
  },
  {
   "cell_type": "code",
   "execution_count": null,
   "id": "54615c98",
   "metadata": {},
   "outputs": [],
   "source": [
    "with torch.no_grad():\n",
    "    with model.disable_adapter():\n",
    "        out2 = model.generate(**inputs, max_new_tokens=max_new_tokens, min_new_tokens=max_new_tokens, do_sample=False)\n",
    "out_s2 = tokenizer.batch_decode(out2, skip_special_tokens=False)\n",
    "f\"`{out_s2[0]}`\""
   ]
  },
  {
   "cell_type": "markdown",
   "id": "0a79d1ff",
   "metadata": {},
   "source": [
    "### Eval cls"
   ]
  },
  {
   "cell_type": "code",
   "execution_count": null,
   "id": "01df258a",
   "metadata": {},
   "outputs": [],
   "source": [
    "# https://github.dev/sylinrl/TruthfulQA/blob/fdd8ad1c0d00a478cf8b0bb41a3ad8378c16293b/truthfulqa/models.py#L311\n",
    "\n",
    "\n",
    "probs = []\n",
    "base_probs = []\n",
    "\n",
    "dl = DataLoader(\n",
    "    dataset2, batch_size=4, num_workers=0)\n",
    "for b in tqdm(dl):\n",
    "    inputs = {'input_ids': b['input_ids'], 'attention_mask': b['attention_mask']}\n",
    "    with torch.no_grad():\n",
    "        with model.disable_adapter():\n",
    "            out_base = model(**inputs)\n",
    "        out = model(**inputs)\n",
    "\n",
    "        for j in range(len(out[\"logits\"])):\n",
    "            n = b['num_choices'][j]\n",
    "            b_choice_ids = choice_ids[:n]\n",
    "            label = b['label'][j, 0]\n",
    "\n",
    "            choice_probs_base = out_base[\"logits\"][j, -1, b_choice_ids].softmax(dim=-1)\n",
    "            choice_probs = out[\"logits\"][j, -1, b_choice_ids].softmax(dim=-1)\n",
    "            prob = choice_probs[label].item()\n",
    "            prob_base = choice_probs_base[label].item()\n",
    "            probs.append(prob)\n",
    "            base_probs.append(prob_base)\n",
    "        "
   ]
  },
  {
   "cell_type": "code",
   "execution_count": null,
   "id": "156842be",
   "metadata": {},
   "outputs": [],
   "source": [
    "choice_probs_base-choice_probs"
   ]
  },
  {
   "cell_type": "code",
   "execution_count": null,
   "id": "c007c690",
   "metadata": {},
   "outputs": [],
   "source": [
    "acc = ((torch.tensor(probs)>0.5)*1.0).mean()\n",
    "base_acc = ((torch.tensor(base_probs)>0.5)*1.0).mean()\n",
    "acc, base_acc"
   ]
  },
  {
   "cell_type": "code",
   "execution_count": null,
   "id": "9be360a5",
   "metadata": {},
   "outputs": [],
   "source": [
    "prob_correct = torch.tensor(probs).mean()\n",
    "prob_base_correct = torch.tensor(base_probs).mean()\n",
    "prob_correct, prob_base_correct"
   ]
  },
  {
   "cell_type": "code",
   "execution_count": null,
   "id": "1b3ccd50",
   "metadata": {},
   "outputs": [],
   "source": []
  },
  {
   "cell_type": "code",
   "execution_count": null,
   "id": "0458bc7f",
   "metadata": {},
   "outputs": [],
   "source": []
  }
 ],
 "metadata": {
  "kernelspec": {
   "display_name": "Python 3.10.4 64-bit",
   "language": "python",
   "name": "python3"
  },
  "language_info": {
   "codemirror_mode": {
    "name": "ipython",
    "version": 3
   },
   "file_extension": ".py",
   "mimetype": "text/x-python",
   "name": "python",
   "nbconvert_exporter": "python",
   "pygments_lexer": "ipython3",
   "version": "3.10.12"
  },
  "toc": {
   "base_numbering": 1,
   "nav_menu": {},
   "number_sections": true,
   "sideBar": true,
   "skip_h1_title": false,
   "title_cell": "Table of Contents",
   "title_sidebar": "Contents",
   "toc_cell": false,
   "toc_position": {},
   "toc_section_display": true,
   "toc_window_display": false
  },
  "vscode": {
   "interpreter": {
    "hash": "916dbcbb3f70747c44a77c7bcd40155683ae19c65e1c03b4aa3499c5328201f1"
   }
  }
 },
 "nbformat": 4,
 "nbformat_minor": 5
}
