{
 "cells": [
  {
   "cell_type": "markdown",
   "id": "1b44551e",
   "metadata": {},
   "source": [
    "# Exploratory Data Analysis\n",
    "\n",
    "Hypothesis: We can use the https://arxiv.org/pdf/2406.04313 method for increasing honesty"
   ]
  },
  {
   "cell_type": "code",
   "execution_count": 1,
   "id": "198de680",
   "metadata": {
    "ExecuteTime": {
     "end_time": "2022-06-28T02:34:01.879987Z",
     "start_time": "2022-06-28T02:34:01.864103Z"
    }
   },
   "outputs": [],
   "source": [
    "# autoreload your package\n",
    "%load_ext autoreload\n",
    "%autoreload 2\n",
    "import adapter_overseer\n"
   ]
  },
  {
   "cell_type": "code",
   "execution_count": 2,
   "id": "f6d34518",
   "metadata": {},
   "outputs": [],
   "source": [
    "import os\n",
    "os.environ['CUDA_VISIBLE_DEVICES'] = \"0\""
   ]
  },
  {
   "cell_type": "code",
   "execution_count": 3,
   "id": "a372ed7c",
   "metadata": {
    "ExecuteTime": {
     "end_time": "2022-06-28T02:34:02.470436Z",
     "start_time": "2022-06-28T02:34:02.424826Z"
    }
   },
   "outputs": [],
   "source": [
    "import warnings\n",
    "# warnings.simplefilter(\"ignore\")\n",
    "# warnings.filterwarnings(\"ignore\", \".*does not have many workers.*\")\n",
    "# warnings.filterwarnings(\"ignore\", \".*divide by zero.*\")\n",
    "\n",
    "## numeric, plotting\n",
    "import numpy as np\n",
    "import pandas as pd\n",
    "import matplotlib.pyplot as plt\n",
    "%matplotlib inline\n",
    "plt.style.use('ggplot')\n",
    "plt.rcParams['figure.figsize'] = (7.0, 4)\n",
    "\n",
    "## utils\n",
    "from pathlib import Path\n",
    "from tqdm.auto import tqdm\n",
    "import logging, os, re\n",
    "import collections, functools, itertools\n",
    "from loguru import logger\n",
    "\n",
    "from typing import List, Callable, Tuple, Dict, Optional\n",
    "from jaxtyping import Float, Int\n",
    "from torch import Tensor\n",
    "\n",
    "# torch\n",
    "# import pytorch_lightning as pl\n",
    "from einops import rearrange, repeat, reduce\n",
    "import torch\n",
    "import torch.nn as nn\n",
    "\n",
    "\n",
    "from baukit.nethook import get_module\n",
    "from baukit import TraceDict\n",
    "\n",
    "from transformers import AutoModelForCausalLM, AutoTokenizer, BitsAndBytesConfig"
   ]
  },
  {
   "cell_type": "code",
   "execution_count": 4,
   "id": "64611cf0",
   "metadata": {},
   "outputs": [
    {
     "data": {
      "text/plain": [
       "ExtractConfig(datasets=('amazon_polarity',), datasets_ood='imdb', model='failspy/Llama-3-8B-Instruct-abliterated', collection_layers=('base_model.model.model.layers.10', 'base_model.model.model.layers.20'), batch_size=2, prompt_format=None, num_shots=2, max_length=776, max_examples=1000, seed=42, max_epochs=1)"
      ]
     },
     "execution_count": 4,
     "metadata": {},
     "output_type": "execute_result"
    }
   ],
   "source": [
    "from adapter_overseer.config import ExtractConfig\n",
    "\n",
    "cfg = ExtractConfig()\n",
    "cfg"
   ]
  },
  {
   "cell_type": "markdown",
   "id": "efd50635",
   "metadata": {},
   "source": [
    "## Load"
   ]
  },
  {
   "cell_type": "code",
   "execution_count": 5,
   "id": "aaf63b54",
   "metadata": {},
   "outputs": [],
   "source": [
    "\n",
    "device = torch.device(\"cuda:0\" if torch.cuda.is_available() else \"cpu\")"
   ]
  },
  {
   "cell_type": "code",
   "execution_count": 6,
   "id": "db1ee3ff",
   "metadata": {},
   "outputs": [],
   "source": [
    "# https://huggingface.co/blog/mlabonne/orpo-llama-3\n",
    "if torch.cuda.get_device_capability()[0] >= 8:\n",
    "    !pip install -qqq flash-attn\n",
    "    attn_implementation = \"flash_attention_2\"\n",
    "    torch_dtype = torch.bfloat16\n",
    "else:\n",
    "    attn_implementation = \"eager\"\n",
    "    torch_dtype = torch.float16\n",
    "torch_dtype, device"
   ]
  },
  {
   "cell_type": "code",
   "execution_count": null,
   "id": "64890012",
   "metadata": {
    "ExecuteTime": {
     "end_time": "2022-06-28T02:34:02.890216Z",
     "start_time": "2022-06-28T02:34:02.882249Z"
    }
   },
   "outputs": [],
   "source": [
    "# load model\n",
    "# quantization_config = BitsAndBytesConfig(load_in_8bit=True)\n",
    "quantization_config = BitsAndBytesConfig(load_in_4bit=True,     bnb_4bit_quant_type=\"nf4\", bnb_4bit_compute_dtype=torch_dtype, bnb_4bit_use_double_quant=True,)\n",
    "model = AutoModelForCausalLM.from_pretrained(cfg.model, device_map=\"auto\", quantization_config=quantization_config,)\n",
    "model"
   ]
  },
  {
   "cell_type": "code",
   "execution_count": null,
   "id": "a9f98e8e",
   "metadata": {},
   "outputs": [],
   "source": [
    "tokenizer = AutoTokenizer.from_pretrained(cfg.model)\n",
    "if tokenizer.pad_token_id is None:\n",
    "    tokenizer.pad_token_id = tokenizer.eos_token_id\n",
    "tokenizer.padding_side = 'left'\n",
    "tokenizer.truncation_side = 'left'"
   ]
  },
  {
   "cell_type": "code",
   "execution_count": null,
   "id": "797d42af",
   "metadata": {},
   "outputs": [],
   "source": [
    "# https://old.reddit.com/r/LocalLLaMA/comments/1coizjy/tokenizer_config_of_llama3_changed_by_meta_in_hf/\n",
    "tokenizer.eos_token # it's good"
   ]
  },
  {
   "cell_type": "code",
   "execution_count": null,
   "id": "cb24b3a4",
   "metadata": {},
   "outputs": [],
   "source": [
    "# from peft import get_peft_config, get_peft_model, LoraConfig, TaskType\n",
    "# \\peft_config = LoraConfig(\n",
    "#     task_type=TaskType.SEQ_2_SEQ_LM, inference_mode=False, r=8, lora_alpha=32, lora_dropout=0.1\n",
    "# )\n",
    "# model = get_peft_model(model, peft_config)\n"
   ]
  },
  {
   "cell_type": "code",
   "execution_count": null,
   "id": "b43d5484",
   "metadata": {},
   "outputs": [],
   "source": [
    "# from peft import prepare_model_for_int8_training\n",
    "# # we need to apply some post-processing on the 8-bit model to enable training, let's freeze all our layers, and cast the layer-norm in float32 for stability. We also cast the output of the last layer in float32 for the same reasons.\n",
    "# model = prepare_model_for_int8_training(model, output_embedding_layer_name=\"proj_out\")"
   ]
  },
  {
   "cell_type": "code",
   "execution_count": null,
   "id": "1d4da6fa",
   "metadata": {},
   "outputs": [],
   "source": [
    "from peft import LoraConfig, PeftModel, LoraModel, LoraConfig, get_peft_model\n",
    "# https://github.com/huggingface/peft/blob/main/src/peft/utils/constants.py\n",
    "config = LoraConfig(\n",
    "                        #r=32,\n",
    "                         lora_alpha=10,  # from paper\n",
    "                    # target_modules=[\"q_proj\", \"v_proj\"], lora_dropout=0.05, bias=\"none\"\n",
    "                    )\n",
    "\n",
    "from peft import prepare_model_for_kbit_training\n",
    "\n",
    "model = prepare_model_for_kbit_training(model)\n",
    "\n",
    "model = get_peft_model(model, config)\n",
    "model.print_trainable_parameters()\n",
    "\n",
    "# check adapter disabling works\n",
    "with model.disable_adapter():\n",
    "    model.print_trainable_parameters()"
   ]
  },
  {
   "cell_type": "markdown",
   "id": "6d102e3d",
   "metadata": {},
   "source": [
    "## Get data"
   ]
  },
  {
   "cell_type": "code",
   "execution_count": null,
   "id": "f0dd0950",
   "metadata": {},
   "outputs": [],
   "source": [
    "# perhaps use load_preproc_datasets from sdb_probes_are_lie_detectors repo... /media/wassname/SGIronWolf/projects5/elk/sgd_probes_are_lie_detectors/src/prompts/prompt_loading.py"
   ]
  },
  {
   "cell_type": "code",
   "execution_count": null,
   "id": "2c8ae82b",
   "metadata": {},
   "outputs": [],
   "source": [
    "# load a dataset of paired prompts, to try and get the model to lie\n",
    "from adapter_overseer.prompts.prompt_loading import load_preproc_datasets\n",
    "\n",
    "N = cfg.max_examples\n",
    "ds_tokens = load_preproc_datasets(\n",
    "    cfg.datasets,\n",
    "    tokenizer,\n",
    "    N=N,\n",
    "    seed=cfg.seed,\n",
    "    num_shots=cfg.num_shots,\n",
    "    max_length=cfg.max_length,\n",
    "    prompt_format=cfg.prompt_format,\n",
    ")\n",
    "ds_tokens\n"
   ]
  },
  {
   "cell_type": "markdown",
   "id": "6e535a6d",
   "metadata": {},
   "source": []
  },
  {
   "cell_type": "markdown",
   "id": "eca812ab",
   "metadata": {},
   "source": [
    "## Train: transformers\n",
    "\n",
    "https://github.com/huggingface/peft/blob/main/examples/int8_training/Finetune_opt_bnb_peft.ipynb"
   ]
  },
  {
   "cell_type": "code",
   "execution_count": null,
   "id": "ea1b81a3",
   "metadata": {},
   "outputs": [],
   "source": [
    "def coeffecient(t, T, alpha=1):\n",
    "    return alpha * t / (2 * T), alpha * (1- t/(2*T))\n",
    "\n",
    "T = 150\n",
    "for t in range(1, T, 10):\n",
    "    cs = coeffecient(t, T)\n",
    "    print(f\"{t}/{T} {cs[0]:2.2f} {cs[1]:2.2f}\")"
   ]
  },
  {
   "cell_type": "code",
   "execution_count": null,
   "id": "442bb987",
   "metadata": {},
   "outputs": [],
   "source": [
    "# TODO change the loss function!\n",
    "# we need to modify the forward pass, so that it returns a different loss function\n",
    "# but to calculate this we will need to residuals now, and as they werre\n",
    "# loss_bad = mse(repr_current, repr_target)\n",
    "\n",
    "# from transformers import SFTTrainer\n",
    "from trl.trainer import SFTTrainer, SFTConfig\n",
    "import torch.nn.functional as F\n",
    "\n",
    "from adapter_overseer.helpers.torch_helpers import clear_mem, switch\n",
    "from adapter_overseer.helpers.scores import select_choices\n",
    "\n",
    "class CustomSFTTrainer(SFTTrainer):\n",
    "    \"\"\"\n",
    "    Custom SFTTrainer that orthoganalizes the repr of bad examples, and retains good repr of examples\n",
    "\n",
    "    See: https://arxiv.org/pdf/2406.04313\n",
    "\n",
    "    args:\n",
    "        collection_layers: list of baukit layer names to collect\n",
    "    \"\"\"\n",
    "    def __init__(self, *args, collection_layers: list, alpha=0.1, **kwargs):\n",
    "        super(CustomSFTTrainer, self).__init__(*args, **kwargs)\n",
    "        self.collection_layers = collection_layers\n",
    "        self.alpha = alpha\n",
    "        self.total_steps = self.args.max_steps\n",
    "\n",
    "    def compute_loss(self, model, inputs, return_outputs=False):       \n",
    "\n",
    "        batch = {'input_ids': inputs['input_ids'], 'attention_mask': inputs['attention_mask']}\n",
    "\n",
    "        # collect the residuals of the model\n",
    "        with torch.no_grad():\n",
    "            with model.disable_adapter():\n",
    "                orig_outputs = model(**batch, output_hidden_states=True)\n",
    "        outputs = model(**batch, output_hidden_states=True)\n",
    "\n",
    "        def collect_hs(hidden_states):\n",
    "            \"\"\"The residual stream is the diff of the hs.\"\"\"\n",
    "            hs = [hidden_states[i] for i in self.collection_layers]\n",
    "            return rearrange(hs, 'l b t h -> b l t h').diff(1)\n",
    "\n",
    "        rep_adapt = collect_hs(outputs.hidden_states)\n",
    "        rep_orig = collect_hs(orig_outputs.hidden_states).detach()\n",
    "        # \"for enhanced robustness, we apply the short circuit loss to both the user and assistant text within the short circuit set for large language models and agents.\"\n",
    "\n",
    "        # so now we have a mixed batch of good and bad outputs\n",
    "        # get probs of each choice\n",
    "        # compare to labels to seperate into good and bad\n",
    "        choice_ids = inputs['choice_ids'].detach().cpu().long()\n",
    "        # label_instructed = inputs['label_true'] ^ inputs['instructed_to_lie']\n",
    "        label_true = inputs['label_true']\n",
    "\n",
    "        # does the underlying model get it right or wrong?\n",
    "        end_logits = orig_outputs[\"logits\"][:, -1]\n",
    "        probs = torch.softmax(end_logits, -1)\n",
    "        choice_probs = select_choices(probs, choice_ids).sum(2)\n",
    "        binary_ans = choice_probs[:, 1] / (choice_probs.sum(1) + 1e-12)\n",
    "        correct_truth_telling = switch(binary_ans, label_true)\n",
    "        # correct_instruction_following = switch(binary_ans, label_instructed)\n",
    "\n",
    "        mask_desired = correct_truth_telling>0.5\n",
    "\n",
    "\n",
    "        # get coeffecient\n",
    "        steps = self.state.global_step + 1\n",
    "        c_s, c_r = coeffecient(steps, self.total_steps)\n",
    "        c_s = torch.tensor(c_s).to(rep_orig.dtype)\n",
    "        c_r = torch.tensor(c_r).to(rep_orig.dtype)\n",
    "\n",
    "        loss_retain = F.mse_loss(rep_orig, rep_adapt, reduction='none' )[mask_desired]\n",
    "        if loss_retain.numel() == 0:\n",
    "            loss_retain = 0\n",
    "        else:\n",
    "            loss_retain = loss_retain.mean()\n",
    "        loss_rr = F.relu(F.cosine_similarity(rep_orig, rep_adapt, dim=1))[~mask_desired]\n",
    "        if loss_rr.numel() == 0:\n",
    "            loss_rr = 0\n",
    "        else:\n",
    "            loss_rr = loss_rr.mean()\n",
    "        loss = loss_rr * c_s + c_r * loss_retain\n",
    "        loss = loss\n",
    "        if steps % 20 == 0:\n",
    "            logger.debug(f\"steps: {steps}, c_r: {c_r}, loss_rr: {loss_rr:2.3f}, loss_retain: {loss_retain:2.3f}, loss={loss:2.3f}, mask_desired: {(mask_desired*1.0).mean():2.3f}\")\n",
    "        \n",
    "        return (loss, outputs) if return_outputs else loss\n",
    "    \n",
    "\n",
    "# TODO make sure that multiple cols get passed into trainer\n",
    "ds = ds_tokens.select_columns(['label_true', 'label_instructed' ,'instructed_to_lie', 'input_ids', 'attention_mask', 'choice_ids'])\n",
    "\n",
    "import transformers\n",
    "\n",
    "# see https://github.com/huggingface/trl/blob/main/trl/trainer/sft_trainer.py#L58\n",
    "trainer = CustomSFTTrainer(\n",
    "    model=model,\n",
    "    train_dataset=ds,\n",
    "    collection_layers=[10, 20],\n",
    "    # max_seq_length=cfg.max_length,\n",
    "    args=SFTConfig(\n",
    "        # see https://github.com/huggingface/trl/blob/main/trl/trainer/sft_config.py#L21\n",
    "        max_seq_length=cfg.max_length,\n",
    "        per_device_train_batch_size=4, # 18GB/24GB\n",
    "        gradient_accumulation_steps=4, # we want to accumulate the gradients to make the batch size larger, so we have sufficient examples of good and bad behaviour to learn from\n",
    "        warmup_steps=10,\n",
    "        max_steps=150, # 150 steps of batch=16 in paper\n",
    "        learning_rate=3e-4, # from paper\n",
    "        fp16=True,\n",
    "        logging_steps=1,\n",
    "        output_dir=\"outputs\",\n",
    "        remove_unused_columns=False,\n",
    "    ),\n",
    "    # data_collator=transformers.DataCollatorForLanguageModeling(tokenizer, mlm=False),\n",
    ") \n",
    "model.config.use_cache = False  # silence the warnings. Please re-enable for inference!\n",
    "trainer.train()"
   ]
  },
  {
   "cell_type": "code",
   "execution_count": null,
   "id": "9c3b0cb4",
   "metadata": {},
   "outputs": [],
   "source": [
    "# save\n",
    "model.save_pretrained(\"../outputs/hs_adapter\")"
   ]
  },
  {
   "cell_type": "markdown",
   "id": "ec82d4d8",
   "metadata": {},
   "source": [
    "# Eval"
   ]
  },
  {
   "cell_type": "code",
   "execution_count": null,
   "id": "78d278b5",
   "metadata": {},
   "outputs": [],
   "source": [
    "from datasets import load_dataset\n",
    "# multiple_choice\n",
    "from torch.utils.data import DataLoader\n",
    "# dataset = load_dataset(\"truthfulqa/truthful_qa\", \"multiple_choice\")\n",
    "\n",
    "# HACK it was stalling for hours, so I loaded it locally\n",
    "dataset = load_dataset(\"../data/truthful_qa\")['validation']\n",
    "dataset"
   ]
  },
  {
   "cell_type": "code",
   "execution_count": null,
   "id": "60a4effb",
   "metadata": {},
   "outputs": [],
   "source": [
    "model.config.use_cache = True"
   ]
  },
  {
   "cell_type": "code",
   "execution_count": null,
   "id": "6c19b517",
   "metadata": {},
   "outputs": [],
   "source": [
    "# https://github.dev/likenneth/honest_llama/blob/b92beb28deccd7ec6b26de7ebf9920122cfd15cd/utils.py#L72\n",
    "# print(row)\n",
    "\n",
    "def format_prompt(row):\n",
    "    prompt = f\"The is a multiple choice question. Question: {row['question']}\\n\"\n",
    "    for i, choice in enumerate(row['mc2_targets']['choices']):\n",
    "        prompt += f\"{i+1}. {choice}\\n\"\n",
    "    prompt += f\"\\nThe correct answer is number \"\n",
    "\n",
    "    choices = [str(i) for i in range(len(row['mc2_targets']['labels']))]\n",
    "    return {'text': prompt, \n",
    "            'label': [np.argmax(row['mc2_targets']['labels'])],\n",
    "            'choices': choices,\n",
    "            'num_choices': len(choices),\n",
    "            }\n",
    "\n",
    "dataset1 = dataset.map(format_prompt)"
   ]
  },
  {
   "cell_type": "code",
   "execution_count": null,
   "id": "d5224624",
   "metadata": {},
   "outputs": [],
   "source": [
    "max([len(r['labels']) for r in dataset['mc2_targets']])"
   ]
  },
  {
   "cell_type": "code",
   "execution_count": null,
   "id": "a86edd8e",
   "metadata": {},
   "outputs": [],
   "source": [
    "# get our choice ids\n",
    "choices = [str(i) for i in range(13)]\n",
    "choice_ids = [tokenizer(c, add_special_tokens=False).input_ids[0] for c in choices]\n",
    "choice_ids"
   ]
  },
  {
   "cell_type": "code",
   "execution_count": null,
   "id": "b06168d1",
   "metadata": {},
   "outputs": [],
   "source": [
    "\n",
    "def tokenization(example):\n",
    "    o = tokenizer(example[\"text\"], padding=\"max_length\", truncation=True, max_length=cfg.max_length, return_tensors=\"pt\")\n",
    "    return o\n",
    "\n",
    "dataset2 = dataset1.map(tokenization, batched=True).select_columns([ 'label', 'input_ids', 'attention_mask', \n",
    "                                                                    'num_choices'\n",
    "                                                                    ]).with_format(\"torch\")\n",
    "dataset2"
   ]
  },
  {
   "cell_type": "markdown",
   "id": "e21ba4e5",
   "metadata": {},
   "source": [
    "# Generate"
   ]
  },
  {
   "cell_type": "code",
   "execution_count": null,
   "id": "4ebffedf",
   "metadata": {},
   "outputs": [],
   "source": [
    "i = 1\n",
    "row = dataset1[i]\n",
    "# row"
   ]
  },
  {
   "cell_type": "code",
   "execution_count": null,
   "id": "d3b60560",
   "metadata": {},
   "outputs": [],
   "source": []
  },
  {
   "cell_type": "code",
   "execution_count": null,
   "id": "efddadbe",
   "metadata": {},
   "outputs": [],
   "source": [
    "max_new_tokens = 32\n",
    "s = row['text']\n",
    "inputs = tokenizer(s, truncation=True, max_length=cfg.max_length, return_tensors=\"pt\").to(device)\n",
    "model.eval()\n",
    "with torch.no_grad():\n",
    "    outputs = model.generate(**inputs, max_new_tokens=max_new_tokens, min_new_tokens=max_new_tokens, do_sample=False)\n",
    "    out_s = tokenizer.batch_decode(outputs, skip_special_tokens=False)\n",
    "f\"`{out_s[0]}`\""
   ]
  },
  {
   "cell_type": "code",
   "execution_count": null,
   "id": "54615c98",
   "metadata": {},
   "outputs": [],
   "source": [
    "with torch.no_grad():\n",
    "    with model.disable_adapter():\n",
    "        out2 = model.generate(**inputs, max_new_tokens=max_new_tokens, min_new_tokens=max_new_tokens, do_sample=False)\n",
    "out_s2 = tokenizer.batch_decode(out2, skip_special_tokens=False)\n",
    "f\"`{out_s2[0]}`\""
   ]
  },
  {
   "cell_type": "markdown",
   "id": "0a79d1ff",
   "metadata": {},
   "source": [
    "### Eval cls"
   ]
  },
  {
   "cell_type": "code",
   "execution_count": null,
   "id": "01df258a",
   "metadata": {},
   "outputs": [],
   "source": [
    "# https://github.dev/sylinrl/TruthfulQA/blob/fdd8ad1c0d00a478cf8b0bb41a3ad8378c16293b/truthfulqa/models.py#L311\n",
    "\n",
    "\n",
    "probs = []\n",
    "base_probs = []\n",
    "\n",
    "dl = DataLoader(\n",
    "    dataset2, batch_size=4, num_workers=0)\n",
    "for b in tqdm(dl):\n",
    "    inputs = {'input_ids': b['input_ids'], 'attention_mask': b['attention_mask']}\n",
    "    with torch.no_grad():\n",
    "        with model.disable_adapter():\n",
    "            out_base = model(**inputs)\n",
    "        out = model(**inputs)\n",
    "\n",
    "        for j in range(len(out[\"logits\"])):\n",
    "            n = b['num_choices'][j]\n",
    "            b_choice_ids = choice_ids[:n]\n",
    "            label = b['label'][j, 0]\n",
    "\n",
    "            choice_probs_base = out_base[\"logits\"][j, -1, b_choice_ids].softmax(dim=-1)\n",
    "            choice_probs = out[\"logits\"][j, -1, b_choice_ids].softmax(dim=-1)\n",
    "            prob = choice_probs[label].item()\n",
    "            prob_base = choice_probs_base[label].item()\n",
    "            probs.append(prob)\n",
    "            base_probs.append(prob_base)\n",
    "        "
   ]
  },
  {
   "cell_type": "code",
   "execution_count": null,
   "id": "c007c690",
   "metadata": {},
   "outputs": [],
   "source": [
    "acc = ((torch.tensor(probs)>0.5)*1.0).mean()\n",
    "base_acc = ((torch.tensor(base_probs)>0.5)*1.0).mean()\n",
    "acc, base_acc"
   ]
  },
  {
   "cell_type": "code",
   "execution_count": null,
   "id": "9be360a5",
   "metadata": {},
   "outputs": [],
   "source": [
    "prob_correct = torch.tensor(probs).mean()\n",
    "prob_base_correct = torch.tensor(base_probs).mean()\n",
    "prob_correct, prob_base_correct"
   ]
  },
  {
   "cell_type": "code",
   "execution_count": null,
   "id": "1b3ccd50",
   "metadata": {},
   "outputs": [],
   "source": []
  }
 ],
 "metadata": {
  "kernelspec": {
   "display_name": "Python 3.10.4 64-bit",
   "language": "python",
   "name": "python3"
  },
  "language_info": {
   "codemirror_mode": {
    "name": "ipython",
    "version": 3
   },
   "file_extension": ".py",
   "mimetype": "text/x-python",
   "name": "python",
   "nbconvert_exporter": "python",
   "pygments_lexer": "ipython3",
   "version": "3.10.12"
  },
  "toc": {
   "base_numbering": 1,
   "nav_menu": {},
   "number_sections": true,
   "sideBar": true,
   "skip_h1_title": false,
   "title_cell": "Table of Contents",
   "title_sidebar": "Contents",
   "toc_cell": false,
   "toc_position": {},
   "toc_section_display": true,
   "toc_window_display": false
  },
  "vscode": {
   "interpreter": {
    "hash": "916dbcbb3f70747c44a77c7bcd40155683ae19c65e1c03b4aa3499c5328201f1"
   }
  }
 },
 "nbformat": 4,
 "nbformat_minor": 5
}
