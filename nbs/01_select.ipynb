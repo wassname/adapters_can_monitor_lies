{
 "cells": [
  {
   "cell_type": "code",
   "execution_count": 2,
   "metadata": {},
   "outputs": [
    {
     "name": "stdout",
     "output_type": "stream",
     "text": [
      "The autoreload extension is already loaded. To reload it, use:\n",
      "  %reload_ext autoreload\n"
     ]
    }
   ],
   "source": [
    "# autoreload your package\n",
    "%load_ext autoreload\n",
    "%autoreload 2\n",
    "import adapter_overseer\n",
    "\n",
    "import torch\n",
    "import torch.nn as nn\n",
    "import torch.nn.functional as F\n",
    "\n",
    "import numpy as np\n",
    "from adapter_overseer.helpers.select import select_multi_from_tensor"
   ]
  },
  {
   "cell_type": "code",
   "execution_count": 3,
   "metadata": {},
   "outputs": [
    {
     "ename": "NameError",
     "evalue": "name 'select_from_tensor' is not defined",
     "output_type": "error",
     "traceback": [
      "\u001b[0;31m---------------------------------------------------------------------------\u001b[0m",
      "\u001b[0;31mNameError\u001b[0m                                 Traceback (most recent call last)",
      "Cell \u001b[0;32mIn[3], line 6\u001b[0m\n\u001b[1;32m      3\u001b[0m logits \u001b[38;5;241m=\u001b[39m torch\u001b[38;5;241m.\u001b[39mrand((b, h))\u001b[38;5;241m.\u001b[39mfloat()\n\u001b[1;32m      4\u001b[0m choices \u001b[38;5;241m=\u001b[39m torch\u001b[38;5;241m.\u001b[39mrandint(h, (b,))\n\u001b[0;32m----> 6\u001b[0m y \u001b[38;5;241m=\u001b[39m \u001b[43mselect_from_tensor\u001b[49m(logits, choices)\n\u001b[1;32m      7\u001b[0m y\n",
      "\u001b[0;31mNameError\u001b[0m: name 'select_from_tensor' is not defined"
     ]
    }
   ],
   "source": [
    "b= 2\n",
    "h = 10\n",
    "logits = torch.rand((b, h)).float()\n",
    "choices = torch.randint(h, (b,))\n",
    "\n",
    "y = select_from_tensor(logits, choices)\n",
    "y"
   ]
  },
  {
   "cell_type": "code",
   "execution_count": 34,
   "metadata": {},
   "outputs": [],
   "source": [
    "\n",
    "from jaxtyping import Float, Int\n",
    "from torch import Tensor\n",
    "\n",
    "def select_multi_from_tensor(logits: Float[Tensor, 'b h'], choice_ids: Int[Tensor, 'b ...']) -> Float[Tensor, 'b ...']:\n",
    "    inds = torch.arange(logits.shape[0]).to(logits.device)\n",
    "    for _ in range(choice_ids.ndim - 1):\n",
    "        inds = inds.unsqueeze(-1)\n",
    "    r = logits[inds, choice_ids.long()]\n",
    "    return r\n",
    "\n",
    "\n",
    "\n",
    "# def select_multi_from_tensor2(logits, choice_ids):\n",
    "#     \"\"\"using for loops\"\"\"\n",
    "#     r = []\n",
    "#     for batch_i in range(len(choice_ids)):\n",
    "#         # each batch has a ndim index tensor\n",
    "#         o = logits[batch_i]\n",
    "#         inds = choice_ids[batch_i]\n",
    "#         for dim in range(inds.ndim):\n",
    "#             print(batch_i, dim, inds[dim])\n",
    "#             o = logits[inds[dim]]\n",
    "#         r.append(o)\n",
    "#     return torch.stack(r, -1)\n"
   ]
  },
  {
   "cell_type": "code",
   "execution_count": 35,
   "metadata": {},
   "outputs": [
    {
     "name": "stdout",
     "output_type": "stream",
     "text": [
      "0 0 tensor(0)\n",
      "1 0 tensor(5)\n"
     ]
    },
    {
     "ename": "IndexError",
     "evalue": "index 5 is out of bounds for dimension 0 with size 2",
     "output_type": "error",
     "traceback": [
      "\u001b[0;31m---------------------------------------------------------------------------\u001b[0m",
      "\u001b[0;31mIndexError\u001b[0m                                Traceback (most recent call last)",
      "Cell \u001b[0;32mIn[35], line 7\u001b[0m\n\u001b[1;32m      4\u001b[0m choices \u001b[38;5;241m=\u001b[39m torch\u001b[38;5;241m.\u001b[39mrandint(h, (b, \u001b[38;5;241m3\u001b[39m))\n\u001b[1;32m      6\u001b[0m y \u001b[38;5;241m=\u001b[39m select_multi_from_tensor(logits, choices)\n\u001b[0;32m----> 7\u001b[0m y2 \u001b[38;5;241m=\u001b[39m \u001b[43mselect_multi_from_tensor2\u001b[49m\u001b[43m(\u001b[49m\u001b[43mlogits\u001b[49m\u001b[43m,\u001b[49m\u001b[43m \u001b[49m\u001b[43mchoices\u001b[49m\u001b[43m)\u001b[49m\n\u001b[1;32m      8\u001b[0m np\u001b[38;5;241m.\u001b[39mtesting\u001b[38;5;241m.\u001b[39massert_array_almost_equal(y, y2)\n\u001b[1;32m      9\u001b[0m y, y2\n",
      "Cell \u001b[0;32mIn[34], line 22\u001b[0m, in \u001b[0;36mselect_multi_from_tensor2\u001b[0;34m(logits, choice_ids)\u001b[0m\n\u001b[1;32m     20\u001b[0m     \u001b[38;5;28;01mfor\u001b[39;00m dim \u001b[38;5;129;01min\u001b[39;00m \u001b[38;5;28mrange\u001b[39m(inds\u001b[38;5;241m.\u001b[39mndim):\n\u001b[1;32m     21\u001b[0m         \u001b[38;5;28mprint\u001b[39m(batch_i, dim, inds[dim])\n\u001b[0;32m---> 22\u001b[0m         o \u001b[38;5;241m=\u001b[39m \u001b[43mlogits\u001b[49m\u001b[43m[\u001b[49m\u001b[43minds\u001b[49m\u001b[43m[\u001b[49m\u001b[43mdim\u001b[49m\u001b[43m]\u001b[49m\u001b[43m]\u001b[49m\n\u001b[1;32m     23\u001b[0m     r\u001b[38;5;241m.\u001b[39mappend(o)\n\u001b[1;32m     24\u001b[0m \u001b[38;5;28;01mreturn\u001b[39;00m torch\u001b[38;5;241m.\u001b[39mstack(r, \u001b[38;5;241m-\u001b[39m\u001b[38;5;241m1\u001b[39m)\n",
      "\u001b[0;31mIndexError\u001b[0m: index 5 is out of bounds for dimension 0 with size 2"
     ]
    }
   ],
   "source": [
    "b= 2\n",
    "h = 10\n",
    "logits = torch.rand((b, h)).float()\n",
    "choices = torch.randint(h, (b, 3))\n",
    "\n",
    "y = select_multi_from_tensor(logits, choices)\n",
    "y2 = select_multi_from_tensor2(logits, choices)\n",
    "np.testing.assert_array_almost_equal(y, y2)\n",
    "y, y2"
   ]
  },
  {
   "cell_type": "code",
   "execution_count": 32,
   "metadata": {},
   "outputs": [
    {
     "ename": "AssertionError",
     "evalue": "\nArrays are not almost equal to 6 decimals\n\n(shapes (2,), (10, 2) mismatch)\n x: array([0.411931, 0.824497], dtype=float32)\n y: array([[0.889349, 0.842947],\n       [0.342594, 0.284808],\n       [0.491632, 0.516622],...",
     "output_type": "error",
     "traceback": [
      "\u001b[0;31m---------------------------------------------------------------------------\u001b[0m",
      "\u001b[0;31mAssertionError\u001b[0m                            Traceback (most recent call last)",
      "Cell \u001b[0;32mIn[32], line 8\u001b[0m\n\u001b[1;32m      6\u001b[0m y \u001b[38;5;241m=\u001b[39m select_multi_from_tensor(logits, choices)\n\u001b[1;32m      7\u001b[0m y2 \u001b[38;5;241m=\u001b[39m select_multi_from_tensor2(logits, choices)\n\u001b[0;32m----> 8\u001b[0m \u001b[43mnp\u001b[49m\u001b[38;5;241;43m.\u001b[39;49m\u001b[43mtesting\u001b[49m\u001b[38;5;241;43m.\u001b[39;49m\u001b[43massert_array_almost_equal\u001b[49m\u001b[43m(\u001b[49m\u001b[43my\u001b[49m\u001b[43m,\u001b[49m\u001b[43m \u001b[49m\u001b[43my2\u001b[49m\u001b[43m)\u001b[49m\n\u001b[1;32m      9\u001b[0m y, y2\n",
      "File \u001b[0;32m/usr/lib/python3.10/contextlib.py:79\u001b[0m, in \u001b[0;36mContextDecorator.__call__.<locals>.inner\u001b[0;34m(*args, **kwds)\u001b[0m\n\u001b[1;32m     76\u001b[0m \u001b[38;5;129m@wraps\u001b[39m(func)\n\u001b[1;32m     77\u001b[0m \u001b[38;5;28;01mdef\u001b[39;00m \u001b[38;5;21minner\u001b[39m(\u001b[38;5;241m*\u001b[39margs, \u001b[38;5;241m*\u001b[39m\u001b[38;5;241m*\u001b[39mkwds):\n\u001b[1;32m     78\u001b[0m     \u001b[38;5;28;01mwith\u001b[39;00m \u001b[38;5;28mself\u001b[39m\u001b[38;5;241m.\u001b[39m_recreate_cm():\n\u001b[0;32m---> 79\u001b[0m         \u001b[38;5;28;01mreturn\u001b[39;00m \u001b[43mfunc\u001b[49m\u001b[43m(\u001b[49m\u001b[38;5;241;43m*\u001b[39;49m\u001b[43margs\u001b[49m\u001b[43m,\u001b[49m\u001b[43m \u001b[49m\u001b[38;5;241;43m*\u001b[39;49m\u001b[38;5;241;43m*\u001b[39;49m\u001b[43mkwds\u001b[49m\u001b[43m)\u001b[49m\n",
      "    \u001b[0;31m[... skipping hidden 1 frame]\u001b[0m\n",
      "File \u001b[0;32m/usr/lib/python3.10/contextlib.py:79\u001b[0m, in \u001b[0;36mContextDecorator.__call__.<locals>.inner\u001b[0;34m(*args, **kwds)\u001b[0m\n\u001b[1;32m     76\u001b[0m \u001b[38;5;129m@wraps\u001b[39m(func)\n\u001b[1;32m     77\u001b[0m \u001b[38;5;28;01mdef\u001b[39;00m \u001b[38;5;21minner\u001b[39m(\u001b[38;5;241m*\u001b[39margs, \u001b[38;5;241m*\u001b[39m\u001b[38;5;241m*\u001b[39mkwds):\n\u001b[1;32m     78\u001b[0m     \u001b[38;5;28;01mwith\u001b[39;00m \u001b[38;5;28mself\u001b[39m\u001b[38;5;241m.\u001b[39m_recreate_cm():\n\u001b[0;32m---> 79\u001b[0m         \u001b[38;5;28;01mreturn\u001b[39;00m \u001b[43mfunc\u001b[49m\u001b[43m(\u001b[49m\u001b[38;5;241;43m*\u001b[39;49m\u001b[43margs\u001b[49m\u001b[43m,\u001b[49m\u001b[43m \u001b[49m\u001b[38;5;241;43m*\u001b[39;49m\u001b[38;5;241;43m*\u001b[39;49m\u001b[43mkwds\u001b[49m\u001b[43m)\u001b[49m\n",
      "File \u001b[0;32m/media/wassname/SGIronWolf/projects5/elk/adapters_can_monitor_lies/.venv/lib/python3.10/site-packages/numpy/testing/_private/utils.py:713\u001b[0m, in \u001b[0;36massert_array_compare\u001b[0;34m(comparison, x, y, err_msg, verbose, header, precision, equal_nan, equal_inf, strict)\u001b[0m\n\u001b[1;32m    707\u001b[0m         reason \u001b[38;5;241m=\u001b[39m \u001b[38;5;124mf\u001b[39m\u001b[38;5;124m'\u001b[39m\u001b[38;5;130;01m\\n\u001b[39;00m\u001b[38;5;124m(dtypes \u001b[39m\u001b[38;5;132;01m{\u001b[39;00mx\u001b[38;5;241m.\u001b[39mdtype\u001b[38;5;132;01m}\u001b[39;00m\u001b[38;5;124m, \u001b[39m\u001b[38;5;132;01m{\u001b[39;00my\u001b[38;5;241m.\u001b[39mdtype\u001b[38;5;132;01m}\u001b[39;00m\u001b[38;5;124m mismatch)\u001b[39m\u001b[38;5;124m'\u001b[39m\n\u001b[1;32m    708\u001b[0m     msg \u001b[38;5;241m=\u001b[39m build_err_msg([x, y],\n\u001b[1;32m    709\u001b[0m                         err_msg\n\u001b[1;32m    710\u001b[0m                         \u001b[38;5;241m+\u001b[39m reason,\n\u001b[1;32m    711\u001b[0m                         verbose\u001b[38;5;241m=\u001b[39mverbose, header\u001b[38;5;241m=\u001b[39mheader,\n\u001b[1;32m    712\u001b[0m                         names\u001b[38;5;241m=\u001b[39m(\u001b[38;5;124m'\u001b[39m\u001b[38;5;124mx\u001b[39m\u001b[38;5;124m'\u001b[39m, \u001b[38;5;124m'\u001b[39m\u001b[38;5;124my\u001b[39m\u001b[38;5;124m'\u001b[39m), precision\u001b[38;5;241m=\u001b[39mprecision)\n\u001b[0;32m--> 713\u001b[0m     \u001b[38;5;28;01mraise\u001b[39;00m \u001b[38;5;167;01mAssertionError\u001b[39;00m(msg)\n\u001b[1;32m    715\u001b[0m flagged \u001b[38;5;241m=\u001b[39m bool_(\u001b[38;5;28;01mFalse\u001b[39;00m)\n\u001b[1;32m    716\u001b[0m \u001b[38;5;28;01mif\u001b[39;00m isnumber(x) \u001b[38;5;129;01mand\u001b[39;00m isnumber(y):\n",
      "\u001b[0;31mAssertionError\u001b[0m: \nArrays are not almost equal to 6 decimals\n\n(shapes (2,), (10, 2) mismatch)\n x: array([0.411931, 0.824497], dtype=float32)\n y: array([[0.889349, 0.842947],\n       [0.342594, 0.284808],\n       [0.491632, 0.516622],..."
     ]
    }
   ],
   "source": [
    "b= 2\n",
    "h = 10\n",
    "logits = torch.rand((b, h)).float()\n",
    "choices = torch.randint(h, (b,))\n",
    "\n",
    "y = select_multi_from_tensor(logits, choices)\n",
    "y2 = select_multi_from_tensor2(logits, choices)\n",
    "np.testing.assert_array_almost_equal(y, y2)\n",
    "y, y2"
   ]
  },
  {
   "cell_type": "code",
   "execution_count": null,
   "metadata": {},
   "outputs": [],
   "source": [
    "b= 2\n",
    "h = 10\n",
    "logits = torch.rand((b, h)).float()\n",
    "choices = torch.randint(h, (b, 3, 2))\n",
    "\n",
    "y = select_multi_from_tensor(logits, choices)\n",
    "y2 = select_multi_from_tensor2(logits, choices)\n",
    "np.testing.assert_array_almost_equal(y, y2)\n",
    "y, y2"
   ]
  },
  {
   "cell_type": "code",
   "execution_count": null,
   "metadata": {},
   "outputs": [],
   "source": []
  }
 ],
 "metadata": {
  "kernelspec": {
   "display_name": ".venv",
   "language": "python",
   "name": "python3"
  },
  "language_info": {
   "codemirror_mode": {
    "name": "ipython",
    "version": 3
   },
   "file_extension": ".py",
   "mimetype": "text/x-python",
   "name": "python",
   "nbconvert_exporter": "python",
   "pygments_lexer": "ipython3",
   "version": "3.10.12"
  }
 },
 "nbformat": 4,
 "nbformat_minor": 2
}
